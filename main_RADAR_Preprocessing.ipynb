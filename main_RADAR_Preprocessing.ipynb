{
 "cells": [
  {
   "cell_type": "code",
   "execution_count": 8,
   "metadata": {},
   "outputs": [],
   "source": [
    "from RADARDataCapture import FMCWRADARDataCapture\n",
    "from MOCAPDataCapture import MOCAPDataCapture\n",
    "from FPDataCapture import FPDataCapture\n",
    "import h5py\n",
    "import os\n",
    "import numpy as np\n",
    "import pandas as pd\n",
    "import imageio\n",
    "import matplotlib.pyplot as plt\n",
    "from datetime import datetime\n",
    "import statistics\n",
    "from matplotlib import animation\n",
    "import ast"
   ]
  },
  {
   "cell_type": "code",
   "execution_count": 9,
   "metadata": {},
   "outputs": [
    {
     "name": "stdout",
     "output_type": "stream",
     "text": [
      "    RADAR_capture Start_End_Times Start_End_Frames  tx  is_final_tx\n",
      "0  01_MNTRL_RR_V1  (10.22, 15.05)       (273, 405)   1        False\n",
      "1  01_MNTRL_RR_V1  (18.25, 22.83)       (493, 619)   2        False\n",
      "2  01_MNTRL_RR_V1  (26.24, 30.57)       (712, 831)   3         True\n",
      "3  01_MNTRL_RR_V2  (10.48, 15.05)       (276, 401)   1        False\n",
      "4  01_MNTRL_RR_V2  (18.41, 22.86)       (493, 615)   2        False\n"
     ]
    }
   ],
   "source": [
    "# # Define the lists of parameters\n",
    "# participants = ['01', '02', '03', '04', '05', '08', '10', '12', '13', '14', '15', '16', '18', '22', '24']\n",
    "# # participants = ['12']\n",
    "# movements = [\"MNTRL\", \"MNTRR\"]\n",
    "# # movements = [\"MNTRR\"]\n",
    "# versions = [\"V1\", \"V2\", \"V3\"]\n",
    "# # versions = [\"V3\"]\n",
    "\n",
    "start_end_times_csv_path = '/Users/danielcopeland/Library/Mobile Documents/com~apple~CloudDocs/MIT Masters/DRL/LABx/RADARTreePose/data/csvs/FP_RADAR_START_END_TIME_FRAMES.csv'\n",
    "# Attempting to read the CSV file into a DataFrame\n",
    "df = pd.read_csv(start_end_times_csv_path)\n",
    "print(df.head())"
   ]
  },
  {
   "cell_type": "code",
   "execution_count": 10,
   "metadata": {},
   "outputs": [
    {
     "name": "stdout",
     "output_type": "stream",
     "text": [
      "12\n",
      "RADAR_capture          12_MNTRR_RR_V1\n",
      "Start_End_Times     (10.20583, 11.17)\n",
      "Start_End_Frames           (261, 286)\n",
      "tx                                  1\n",
      "is_final_tx                     False\n",
      "Name: 132, dtype: object\n",
      "(4, 1000, 128, 128)\n",
      "(4, 1000, 23, 13)\n",
      "12_MNTRR_RR_V1_tx1_False\n",
      "(4, 25, 23, 13)\n",
      "12_MNTRR_RR_V1_tx1_False processed and saved\n",
      "12\n",
      "RADAR_capture          12_MNTRR_RR_V1\n",
      "Start_End_Times     (11.41, 14.84167)\n",
      "Start_End_Frames           (293, 384)\n",
      "tx                                  2\n",
      "is_final_tx                     False\n",
      "Name: 133, dtype: object\n",
      "(4, 1000, 128, 128)\n",
      "(4, 1000, 23, 13)\n",
      "12_MNTRR_RR_V1_tx2_False\n",
      "(4, 91, 23, 13)\n",
      "12_MNTRR_RR_V1_tx2_False processed and saved\n",
      "12\n",
      "RADAR_capture            12_MNTRR_RR_V1\n",
      "Start_End_Times     (17.96083, 22.6075)\n",
      "Start_End_Frames             (466, 588)\n",
      "tx                                    3\n",
      "is_final_tx                       False\n",
      "Name: 134, dtype: object\n",
      "(4, 1000, 128, 128)\n",
      "(4, 1000, 23, 13)\n",
      "12_MNTRR_RR_V1_tx3_False\n",
      "(4, 122, 23, 13)\n",
      "12_MNTRR_RR_V1_tx3_False processed and saved\n",
      "12\n",
      "RADAR_capture          12_MNTRR_RR_V1\n",
      "Start_End_Times     (26.00667, 30.57)\n",
      "Start_End_Frames           (678, 798)\n",
      "tx                                  4\n",
      "is_final_tx                      True\n",
      "Name: 135, dtype: object\n",
      "(4, 1000, 128, 128)\n",
      "(4, 1000, 23, 13)\n",
      "12_MNTRR_RR_V1_tx4_True\n",
      "(4, 120, 23, 13)\n",
      "12_MNTRR_RR_V1_tx4_True processed and saved\n"
     ]
    }
   ],
   "source": [
    "output_folder_path = \"/Volumes/FourTBLaCie/Yoga_Study_RADAR_4Ch_FUFD\"\n",
    "\n",
    "problem_list = []\n",
    "\n",
    "for index, row in df.iterrows():\n",
    "    \n",
    "    if row['RADAR_capture'] != '12_MNTRR_RR_V1':\n",
    "        continue\n",
    "    \n",
    "    participant = row['RADAR_capture'][:2]\n",
    "    print(participant)\n",
    "    print(row)\n",
    "    \n",
    "    radar_file_path = f\"/Volumes/DANS SAND/Yoga_Study_RADAR_Data_Renamed/{participant}/{row['RADAR_capture']}.h5\"\n",
    "    \n",
    "    try:\n",
    "        # Initialize the FMCWRADARDataCapture object\n",
    "        RADAR_object = FMCWRADARDataCapture(file_path=radar_file_path)\n",
    "    except Exception as e:\n",
    "        problem_list.append((row['RADAR_capture'], row['tx'], e))\n",
    "        continue\n",
    "    \n",
    "    # Load and save the data\n",
    "    dataCubes = RADAR_object.load_and_save()\n",
    "\n",
    "    # Process the data with Range-Doppler processing\n",
    "    processed_data = RADAR_object.range_doppler_processing(dataCubes)\n",
    "    \n",
    "    print(processed_data.shape)\n",
    "    \n",
    "    sub_selected_processed_data = RADAR_object.sub_select_RADAR_DATA(processed_data)\n",
    "    \n",
    "    print(sub_selected_processed_data.shape)\n",
    "    \n",
    "    file_name = row['RADAR_capture']+\"_tx\"+str(row['tx'])+\"_\"+str(row['is_final_tx'])\n",
    "    \n",
    "    print(file_name)\n",
    "    \n",
    "    start_end_frames_str = row['Start_End_Frames']  # Assuming this is a string\n",
    "    start_end_frames = ast.literal_eval(start_end_frames_str)  # Safely convert string to tuple\n",
    "        \n",
    "    RADAR_object.process_and_save_FUFD_RADAR_data(data=sub_selected_processed_data, start_end_frames = start_end_frames, output_folder_path=output_folder_path, file_name=file_name)\n",
    "    \n",
    "    "
   ]
  },
  {
   "cell_type": "code",
   "execution_count": 4,
   "metadata": {},
   "outputs": [
    {
     "name": "stdout",
     "output_type": "stream",
     "text": [
      "[]\n"
     ]
    },
    {
     "ename": "",
     "evalue": "",
     "output_type": "error",
     "traceback": [
      "\u001b[1;31mThe Kernel crashed while executing code in the the current cell or a previous cell. Please review the code in the cell(s) to identify a possible cause of the failure. Click <a href='https://aka.ms/vscodeJupyterKernelCrash'>here</a> for more info. View Jupyter <a href='command:jupyter.viewOutput'>log</a> for further details."
     ]
    }
   ],
   "source": []
  }
 ],
 "metadata": {
  "kernelspec": {
   "display_name": "Python 3.11.7 ('radartreepose_env')",
   "language": "python",
   "name": "python3"
  },
  "language_info": {
   "codemirror_mode": {
    "name": "ipython",
    "version": 3
   },
   "file_extension": ".py",
   "mimetype": "text/x-python",
   "name": "python",
   "nbconvert_exporter": "python",
   "pygments_lexer": "ipython3",
   "version": "3.11.8"
  },
  "orig_nbformat": 4,
  "vscode": {
   "interpreter": {
    "hash": "328376d6b0fabe9c025bc20907c001b430f3b746c3e3fb21cb53bd3449095683"
   }
  }
 },
 "nbformat": 4,
 "nbformat_minor": 2
}
