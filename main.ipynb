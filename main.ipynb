{
 "cells": [
  {
   "cell_type": "code",
   "execution_count": 1,
   "metadata": {},
   "outputs": [],
   "source": [
    "import nbimporter\n",
    "from RADARDataCapture import FMCWRADARDataCapture\n",
    "import h5py\n",
    "import numpy as np\n",
    "import imageio\n",
    "import matplotlib.pyplot as plt\n",
    "from datetime import datetime"
   ]
  },
  {
   "cell_type": "code",
   "execution_count": 2,
   "metadata": {},
   "outputs": [
    {
     "name": "stdout",
     "output_type": "stream",
     "text": [
      "(4, 1000, 128, 256)\n"
     ]
    }
   ],
   "source": [
    "# Define the path to the test data\n",
    "test_path = \"/Users/danielcopeland/Library/CloudStorage/OneDrive-MassachusettsInstituteofTechnology/Yoga_Study_RADAR_Data/02/02_CRW2L_RR_V1.h5\"\n",
    "\n",
    "# Initialize the FMCWRADARDataCapture object\n",
    "test_data = FMCWRADARDataCapture(file_path=test_path)\n",
    "\n",
    "# Load and save the data\n",
    "dataCubes = test_data.load_and_save()\n",
    "\n",
    "print(dataCubes.shape)\n"
   ]
  },
  {
   "cell_type": "code",
   "execution_count": 3,
   "metadata": {},
   "outputs": [],
   "source": [
    "# Process the data with Range-Doppler processing\n",
    "processed_data = test_data.range_doppler_processing(dataCubes)"
   ]
  },
  {
   "cell_type": "code",
   "execution_count": 4,
   "metadata": {},
   "outputs": [
    {
     "name": "stdout",
     "output_type": "stream",
     "text": [
      "(4, 1000, 64, 256)\n"
     ]
    }
   ],
   "source": [
    "print(processed_data.shape)"
   ]
  },
  {
   "cell_type": "code",
   "execution_count": 6,
   "metadata": {},
   "outputs": [
    {
     "name": "stdout",
     "output_type": "stream",
     "text": [
      "02_CRW2L_RR_V1__2024-01-29 15:53:18.008473.gif\n",
      "GIF saved to /Users/danielcopeland/Library/Mobile Documents/com~apple~CloudDocs/MIT Masters/DRL/LABx/RADARTreePose/data/gifs/02_CRW2L_RR_V1__2024-01-29 15:53:18.008473.gif\n"
     ]
    }
   ],
   "source": [
    "gif_filename = test_path.split(\"/\")[-1].split(\".\")[0] + \"__\" + str(datetime.now()) + '.gif'\n",
    "print(gif_filename)\n",
    "gif_path = test_data.create_gif(processed_data[0], gif_filename)\n",
    "print(f\"GIF saved to {gif_path}\")"
   ]
  },
  {
   "cell_type": "code",
   "execution_count": 5,
   "metadata": {},
   "outputs": [],
   "source": [
    "# Assume `aoa_data` is the output from your AoA processing function and is a 3D numpy array.\n",
    "aoa_data = test_data.angle_of_arrival_processing(dataCubes)"
   ]
  },
  {
   "cell_type": "code",
   "execution_count": 6,
   "metadata": {},
   "outputs": [
    {
     "data": {
      "text/plain": [
       "'/Users/danielcopeland/Library/Mobile Documents/com~apple~CloudDocs/MIT Masters/DRL/LABx/RADARTreePose/data/gifs/aoa_heatmap.gif'"
      ]
     },
     "execution_count": 6,
     "metadata": {},
     "output_type": "execute_result"
    }
   ],
   "source": [
    "# Specify the filename for the GIF. This should include the full path or be relative to the current directory.\n",
    "gif_filename = \"aoa_heatmap.gif\"\n",
    "\n",
    "# Call the create_gif function to generate the GIF from the AoA data.\n",
    "test_data.create_gif(aoa_data, gif_filename)\n",
    "\n",
    "# Now you have a GIF animation of your AoA heatmaps.\n"
   ]
  }
 ],
 "metadata": {
  "kernelspec": {
   "display_name": "Python 3.11.7 ('radartreepose_env')",
   "language": "python",
   "name": "python3"
  },
  "language_info": {
   "codemirror_mode": {
    "name": "ipython",
    "version": 3
   },
   "file_extension": ".py",
   "mimetype": "text/x-python",
   "name": "python",
   "nbconvert_exporter": "python",
   "pygments_lexer": "ipython3",
   "version": "3.11.7"
  },
  "orig_nbformat": 4,
  "vscode": {
   "interpreter": {
    "hash": "328376d6b0fabe9c025bc20907c001b430f3b746c3e3fb21cb53bd3449095683"
   }
  }
 },
 "nbformat": 4,
 "nbformat_minor": 2
}
