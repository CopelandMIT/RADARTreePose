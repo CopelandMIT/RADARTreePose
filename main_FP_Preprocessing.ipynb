{
 "cells": [
  {
   "cell_type": "code",
   "execution_count": 7,
   "metadata": {},
   "outputs": [],
   "source": [
    "from RADARDataCapture import FMCWRADARDataCapture\n",
    "from MOCAPDataCapture import MOCAPDataCapture\n",
    "from FPDataCapture import FPDataCapture\n",
    "import h5py\n",
    "import os\n",
    "import numpy as np\n",
    "import pandas as pd\n",
    "import imageio\n",
    "import matplotlib.pyplot as plt\n",
    "from datetime import datetime\n",
    "import statistics\n",
    "from matplotlib import animation\n",
    "import ast"
   ]
  },
  {
   "cell_type": "code",
   "execution_count": 8,
   "metadata": {},
   "outputs": [
    {
     "name": "stdout",
     "output_type": "stream",
     "text": [
      "    RADAR_capture Start_End_Times Start_End_Frames  tx  is_final_tx\n",
      "0  01_MNTRL_RR_V1  (10.22, 15.05)       (273, 405)   1        False\n",
      "1  01_MNTRL_RR_V1  (18.25, 22.83)       (493, 619)   2        False\n",
      "2  01_MNTRL_RR_V1  (26.24, 30.57)       (712, 831)   3         True\n",
      "3  01_MNTRL_RR_V2  (10.48, 15.05)       (276, 401)   1        False\n",
      "4  01_MNTRL_RR_V2  (18.41, 22.86)       (493, 615)   2        False\n"
     ]
    }
   ],
   "source": [
    "# # Define the lists of parameters\n",
    "# participants = ['01', '02', '03', '04', '05', '08', '10', '12', '13', '14', '15', '16', '18', '22', '24']\n",
    "# # participants = ['12']\n",
    "# movements = [\"MNTRL\", \"MNTRR\"]\n",
    "# # movements = [\"MNTRR\"]\n",
    "# versions = [\"V1\", \"V2\", \"V3\"]\n",
    "# # versions = [\"V3\"]\n",
    "\n",
    "start_end_times_csv_path = '/Users/danielcopeland/Library/Mobile Documents/com~apple~CloudDocs/MIT Masters/DRL/LABx/RADARTreePose/data/csvs/FP_RADAR_START_END_TIME_FRAMES.csv'\n",
    "# Attempting to read the CSV file into a DataFrame\n",
    "df = pd.read_csv(start_end_times_csv_path)\n",
    "print(df.head())"
   ]
  },
  {
   "cell_type": "code",
   "execution_count": 9,
   "metadata": {},
   "outputs": [
    {
     "name": "stdout",
     "output_type": "stream",
     "text": [
      "/Volumes/FourTBLaCie/Dan_Yoga_Study/Data/12/12_MNTRR_MC_V1.tsv\n",
      "12_MNTRR_RR_V1_tx1_False\n",
      "The length of 12_MNTRR_RR_V1_tx1_False is 25\n",
      "The number of frames are 25\n",
      "12_MNTRR_RR_V1_tx1_False processed and saved as NumPy array to /Volumes/FourTBLaCie/Yoga_Study_FP_FUFD/12/12_MNTRR_RR_V1_tx1_False.npy\n",
      "/Volumes/FourTBLaCie/Dan_Yoga_Study/Data/12/12_MNTRR_MC_V1.tsv\n",
      "12_MNTRR_RR_V1_tx2_False\n",
      "The length of 12_MNTRR_RR_V1_tx2_False is 91\n",
      "The number of frames are 91\n",
      "12_MNTRR_RR_V1_tx2_False processed and saved as NumPy array to /Volumes/FourTBLaCie/Yoga_Study_FP_FUFD/12/12_MNTRR_RR_V1_tx2_False.npy\n",
      "/Volumes/FourTBLaCie/Dan_Yoga_Study/Data/12/12_MNTRR_MC_V1.tsv\n",
      "12_MNTRR_RR_V1_tx3_False\n",
      "The length of 12_MNTRR_RR_V1_tx3_False is 122\n",
      "The number of frames are 122\n",
      "12_MNTRR_RR_V1_tx3_False processed and saved as NumPy array to /Volumes/FourTBLaCie/Yoga_Study_FP_FUFD/12/12_MNTRR_RR_V1_tx3_False.npy\n",
      "/Volumes/FourTBLaCie/Dan_Yoga_Study/Data/12/12_MNTRR_MC_V1.tsv\n",
      "12_MNTRR_RR_V1_tx4_True\n",
      "The length of 12_MNTRR_RR_V1_tx4_True is 120\n",
      "The number of frames are 120\n",
      "12_MNTRR_RR_V1_tx4_True processed and saved as NumPy array to /Volumes/FourTBLaCie/Yoga_Study_FP_FUFD/12/12_MNTRR_RR_V1_tx4_True.npy\n"
     ]
    }
   ],
   "source": [
    "output_folder_path = \"/Volumes/FourTBLaCie/Yoga_Study_FP_FUFD\"\n",
    "\n",
    "problem_list = []\n",
    "\n",
    "for index, row in df.iterrows():\n",
    "          \n",
    "    if row['RADAR_capture'] != '12_MNTRR_RR_V1':\n",
    "        continue\n",
    "       \n",
    "    participant = row['RADAR_capture'][:2]\n",
    "    base_file_path = f'/Volumes/FourTBLaCie/Dan_Yoga_Study/Data/{participant}/{row[\"RADAR_capture\"]}.tsv'.replace(\"_RR_\",\"_MC_\")\n",
    "    print(base_file_path)\n",
    "       \n",
    "    try:\n",
    "        # Initialize the FPDataCapture object\n",
    "        fp_data_capture = FPDataCapture(base_file_path)\n",
    "    except Exception as e:\n",
    "        problem_list.append((row['RADAR_capture'], row['tx'], e))\n",
    "        continue\n",
    "    \n",
    "    start_end_frames_str = row['Start_End_Frames']  # Assuming this is a string\n",
    "    start_end_frames = ast.literal_eval(start_end_frames_str)  # Safely convert string to tuple\n",
    "    number_of_frames = start_end_frames[1] - start_end_frames[0]\n",
    "    \n",
    "    file_name = row['RADAR_capture']+\"_tx\"+str(row['tx'])+\"_\"+str(row['is_final_tx'])\n",
    "    \n",
    "    print(file_name)\n",
    "    \n",
    "    start_end_times_str = row['Start_End_Times']  # Assuming this is a string\n",
    "    start_end_times = ast.literal_eval(start_end_times_str)  # Safely convert string to tuple\n",
    "        \n",
    "    fp_data_capture.calculate_cop_x_velocity_between_FUFD(start_end_times=start_end_times, number_of_frames=number_of_frames, output_folder_path=output_folder_path, file_name=file_name)\n",
    "    \n",
    "    "
   ]
  },
  {
   "cell_type": "markdown",
   "metadata": {},
   "source": [
    "make folder for FP data"
   ]
  },
  {
   "cell_type": "code",
   "execution_count": null,
   "metadata": {},
   "outputs": [],
   "source": [
    "import shutil\n",
    "import os\n",
    "from pathlib import Path\n",
    "\n",
    "def copy_files_with_pattern(source_dir, target_dir, patterns):\n",
    "    source_path = Path(source_dir)\n",
    "    target_path = Path(target_dir)\n",
    "    for pattern in patterns:\n",
    "        for file in source_path.rglob(pattern):\n",
    "            relative_path = file.relative_to(source_path)\n",
    "            new_file_path = target_path / relative_path\n",
    "            new_file_path.parent.mkdir(parents=True, exist_ok=True)\n",
    "            shutil.copy(file, new_file_path)\n",
    "\n",
    "# Example usage:\n",
    "source_directory = \"/Volumes/FourTBLaCie/Dan_Yoga_Study/Data\"  # Replace with your source directory path\n",
    "target_directory = '/Volumes/FourTBLaCie/Yoga_Study_FP_1and2_MNTR'  # Replace with your target directory path\n",
    "patterns = [\"*_f_1.tsv\", \"*_f_2.tsv\"]  # Patterns to match\n",
    "\n",
    "copy_files_with_pattern(source_directory, target_directory, patterns)\n",
    "\n",
    "# Note: You will need to replace the placeholder paths with actual paths.\n",
    "# This function copies all files matching the specified patterns from the source directory to the target directory,\n",
    "# preserving the subdirectory structure.\n"
   ]
  }
 ],
 "metadata": {
  "kernelspec": {
   "display_name": "Python 3.11.7 ('radartreepose_env')",
   "language": "python",
   "name": "python3"
  },
  "language_info": {
   "codemirror_mode": {
    "name": "ipython",
    "version": 3
   },
   "file_extension": ".py",
   "mimetype": "text/x-python",
   "name": "python",
   "nbconvert_exporter": "python",
   "pygments_lexer": "ipython3",
   "version": "3.10.13"
  },
  "orig_nbformat": 4,
  "vscode": {
   "interpreter": {
    "hash": "328376d6b0fabe9c025bc20907c001b430f3b746c3e3fb21cb53bd3449095683"
   }
  }
 },
 "nbformat": 4,
 "nbformat_minor": 2
}
