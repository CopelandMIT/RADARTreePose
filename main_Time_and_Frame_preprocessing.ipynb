{
 "cells": [
  {
   "cell_type": "code",
   "execution_count": 2,
   "metadata": {},
   "outputs": [
    {
     "name": "stdout",
     "output_type": "stream",
     "text": [
      "Intel MKL WARNING: Support of Intel(R) Streaming SIMD Extensions 4.2 (Intel(R) SSE4.2) enabled only processors has been deprecated. Intel oneAPI Math Kernel Library 2025.0 will require Intel(R) Advanced Vector Extensions (Intel(R) AVX) instructions.\n",
      "Intel MKL WARNING: Support of Intel(R) Streaming SIMD Extensions 4.2 (Intel(R) SSE4.2) enabled only processors has been deprecated. Intel oneAPI Math Kernel Library 2025.0 will require Intel(R) Advanced Vector Extensions (Intel(R) AVX) instructions.\n"
     ]
    }
   ],
   "source": [
    "from RADARDataCapture import FMCWRADARDataCapture\n",
    "from MOCAPDataCapture import MOCAPDataCapture\n",
    "from FPDataCapture import FPDataCapture\n",
    "import h5py\n",
    "import os\n",
    "import numpy as np\n",
    "import pandas as pd\n",
    "import imageio\n",
    "import matplotlib.pyplot as plt\n",
    "from datetime import datetime\n",
    "import statistics\n",
    "from matplotlib import animation"
   ]
  },
  {
   "cell_type": "code",
   "execution_count": 2,
   "metadata": {},
   "outputs": [
    {
     "name": "stdout",
     "output_type": "stream",
     "text": [
      "    RADAR_capture  Seconds_per_Frame  MOCAP_Start_Time  MOCAP_End_Time  \\\n",
      "0  01_MNTRL_RR_V1           0.036454              1.86           33.32   \n",
      "1  01_MNTRL_RR_V2           0.036464              1.90           33.15   \n",
      "2  01_MNTRL_RR_V3           0.036547              1.92           34.63   \n",
      "3  01_MNTRR_RR_V1           0.036467              1.91           32.98   \n",
      "4  01_MNTRR_RR_V2           0.036370              1.95           33.41   \n",
      "\n",
      "   RADAR_Start_Frame  RADAR_End_Frame  \n",
      "0                 44              907  \n",
      "1                 41              898  \n",
      "2                 43              938  \n",
      "3                 45              897  \n",
      "4                 41              906  \n",
      "01_MNTRL_RR_V1\n"
     ]
    }
   ],
   "source": [
    "ACTUATOR_BUFFER_TIME = 2.75\n",
    "\n",
    "# Load the CSV file with the structure described\n",
    "csv_path = \"/Users/danielcopeland/Library/Mobile Documents/com~apple~CloudDocs/MIT Masters/DRL/LABx/RADARTreePose/data/csvs/radar_seconds_per_frame_t0_tf.csv\" \n",
    "df_tf = pd.read_csv(csv_path)\n",
    "\n",
    "print(df_tf.head())\n",
    "\n",
    "# Define the lists of parameters\n",
    "participants = ['01', '02', '03', '04', '05', '08', '10', '12', '13', '14', '15', '16', '18', '22', '24']\n",
    "# participants = ['04']\n",
    "movements = [\"MNTRL\", \"MNTRR\"]\n",
    "versions = [\"V1\", \"V2\", \"V3\"]\n",
    "\n",
    "# Placeholder for the base file path, adjust as necessary for your environment\n",
    "base_file_path_template = '/Volumes/FourTBLaCie/Dan_Yoga_Study/Data/{participant}/{participant}_{movement}_MC_{version}.tsv'\n",
    "\n",
    "# Initialize a list to collect data\n",
    "data_for_csv = []\n",
    "\n",
    "# Problem FP Captures list\n",
    "problem_fp_captures = [] \n",
    "\n",
    "# Loop over each combination of participant, movement, and version\n",
    "for participant in participants:\n",
    "    for movement in movements:\n",
    "        for version in versions:\n",
    "            # Construct the RADAR capture identifier to match with the CSV data\n",
    "            RADAR_capture = f\"{participant}_{movement}_RR_{version}\"\n",
    "            \n",
    "            if RADAR_capture == \"12_MNTRL_RR_V1\":\n",
    "                continue\n",
    "            \n",
    "            # Extract MOCAP_End_Time for the current RADAR_capture\n",
    "            if RADAR_capture in df_tf['RADAR_capture'].values:\n",
    "                end_time = np.round(df_tf.loc[df_tf['RADAR_capture'] == RADAR_capture, 'MOCAP_End_Time'].iloc[0] - ACTUATOR_BUFFER_TIME,2)\n",
    "            else:\n",
    "                end_time = None  # Handle case where RADAR_capture is not found in the CSV\n",
    "                \n",
    "            # Construct the file path\n",
    "            base_file_path = base_file_path_template.format(participant=participant, movement=movement, version=version)\n",
    "            \n",
    "            try:\n",
    "                fp_data_capture = FPDataCapture(base_file_path)\n",
    "                print(RADAR_capture)\n",
    "                lift_times, down_times = fp_data_capture.identify_foot_lift()        \n",
    "                data_for_csv.append([RADAR_capture, lift_times, down_times, end_time])\n",
    "                \n",
    "                if len(lift_times)!= 3 or len(down_times) != 2 or end_time == None:\n",
    "                    problem_fp_captures.append(RADAR_capture)\n",
    "                \n",
    "            except FileNotFoundError:\n",
    "                # Handle the case where the file does not exist or an error occurs in data processing\n",
    "                print(f\"File not found or error in processing for {base_file_path}\")\n",
    "\n",
    "\n",
    "# Convert the list of data into a DataFrame\n",
    "output_df = pd.DataFrame(data_for_csv, columns=['RADAR_capture', 'Lift_Times', 'Down_Times', 'MOCAP_End_Time'])\n",
    "\n",
    "# Define the output CSV file path\n",
    "output_csv_path = '/Users/danielcopeland/Library/Mobile Documents/com~apple~CloudDocs/MIT Masters/DRL/LABx/RADARTreePose/data/csvs/all_lift_down_times_v3.csv'\n",
    "\n",
    "# Save the DataFrame to CSV\n",
    "output_df.to_csv(output_csv_path, index=False)\n",
    "\n",
    "print(output_df.head())  # Display the first few rows of the DataFrame for verification\n",
    "\n",
    "print(f\"Data saved to {output_csv_path}\")\n",
    "print(f\"Problems with force plate captures: {problem_fp_captures}\")"
   ]
  },
  {
   "cell_type": "markdown",
   "metadata": {},
   "source": [
    "Combine CSVs"
   ]
  },
  {
   "cell_type": "code",
   "execution_count": 6,
   "metadata": {},
   "outputs": [
    {
     "name": "stdout",
     "output_type": "stream",
     "text": [
      "Merging completed and saved to: /Users/danielcopeland/Library/Mobile Documents/com~apple~CloudDocs/MIT Masters/DRL/LABx/RADARTreePose/data/csvs/FP_RADAR_FULL_DATA2.csv\n"
     ]
    }
   ],
   "source": [
    "# Paths to the CSV files\n",
    "csv_path1 = '/Users/danielcopeland/Library/Mobile Documents/com~apple~CloudDocs/MIT Masters/DRL/LABx/RADARTreePose/data/csvs/all_lift_down_times_edited.csv'   \n",
    "csv_path2 = '/Users/danielcopeland/Library/Mobile Documents/com~apple~CloudDocs/MIT Masters/DRL/LABx/RADARTreePose/data/csvs/radar_seconds_per_frame_t0_tf.csv'  \n",
    "\n",
    "# Load the CSVs into DataFrames\n",
    "df_lift_down_times = pd.read_csv(csv_path1)\n",
    "df_radar_info = pd.read_csv(csv_path2)\n",
    "\n",
    "# # Remove the 'RADAR_End_Frame' column from df_radar_info\n",
    "# df_radar_info = df_radar_info.drop('RADAR_End_Frame', axis=1)\n",
    "df_radar_info = df_radar_info.drop('MOCAP_End_Time', axis=1)\n",
    "\n",
    "# Merge the DataFrames on 'RADAR_capture'\n",
    "merged_df = pd.merge(df_lift_down_times, df_radar_info, on='RADAR_capture')\n",
    "\n",
    "merged_df['RADAR_End_Frame'] = (merged_df['RADAR_Start_Frame'] + (merged_df['MOCAP_End_Time']-merged_df['MOCAP_Start_Time'])/merged_df['Seconds_per_Frame']).astype('int')\n",
    "\n",
    "# Optionally, save the merged DataFrame to a new CSV file\n",
    "output_csv_path = '/Users/danielcopeland/Library/Mobile Documents/com~apple~CloudDocs/MIT Masters/DRL/LABx/RADARTreePose/data/csvs/FP_RADAR_FULL_DATA2.csv'  # Update this path accordingly\n",
    "merged_df.to_csv(output_csv_path, index=False)\n",
    "\n",
    "print(\"Merging completed and saved to:\", output_csv_path)\n"
   ]
  },
  {
   "cell_type": "code",
   "execution_count": null,
   "metadata": {},
   "outputs": [],
   "source": []
  },
  {
   "cell_type": "markdown",
   "metadata": {},
   "source": [
    "Generate Foot Lift Foot Down Pairs"
   ]
  },
  {
   "cell_type": "code",
   "execution_count": 5,
   "metadata": {},
   "outputs": [
    {
     "name": "stdout",
     "output_type": "stream",
     "text": [
      "    RADAR_capture    Start_End_Times Start_End_Frames  tx  is_final_tx\n",
      "0  01_MNTRL_RR_V1  (12.60667, 15.05)       (338, 405)   1        False\n",
      "1  01_MNTRL_RR_V1     (18.25, 22.83)       (493, 619)   2        False\n",
      "2  01_MNTRL_RR_V1     (26.24, 30.57)       (712, 831)   3         True\n",
      "3  01_MNTRL_RR_V2     (10.48, 15.05)       (276, 401)   1        False\n",
      "4  01_MNTRL_RR_V2     (18.41, 22.86)       (493, 615)   2        False\n",
      "Data saved to /Users/danielcopeland/Library/Mobile Documents/com~apple~CloudDocs/MIT Masters/DRL/LABx/RADARTreePose/data/csvs/FP_RADAR_START_END_TIME_FRAMES.csv\n"
     ]
    }
   ],
   "source": [
    "import ast  # Safe evaluation of strings containing Python expressions\n",
    "\n",
    "# Load the merged CSV\n",
    "csv_path = '/Users/danielcopeland/Library/Mobile Documents/com~apple~CloudDocs/MIT Masters/DRL/LABx/RADARTreePose/data/csvs/FP_RADAR_FULL_DATA.csv'  # Update this path\n",
    "df = pd.read_csv(csv_path)\n",
    "\n",
    "# Initialize the list to store the structured data\n",
    "structured_data = []\n",
    "\n",
    "# Process each row in the DataFrame\n",
    "for index, row in df.iterrows():\n",
    "    # Safe evaluation of the lift and down times from string to list\n",
    "    lift_times = ast.literal_eval(row['Lift_Times'])\n",
    "    down_times = ast.literal_eval(row['Down_Times']) + [row['MOCAP_End_Time']]\n",
    "    \n",
    "    for i, lift_time in enumerate(lift_times):\n",
    "        # Use the corresponding down time or MOCAP_End_Time for the last lift time\n",
    "        down_time = down_times[i] if i < len(down_times) else row['MOCAP_End_Time']\n",
    "        \n",
    "        # Calculate START_FRAME and END_FRAME for each interval\n",
    "        start_frame = int(((lift_time - row['MOCAP_Start_Time']) / row['Seconds_per_Frame']) + row['RADAR_Start_Frame'])\n",
    "        end_frame = int(((down_time - row['MOCAP_Start_Time']) / row['Seconds_per_Frame']) + row['RADAR_Start_Frame'])\n",
    "        \n",
    "        if down_time > 29:\n",
    "            is_final_tx = True\n",
    "        else:\n",
    "            is_final_tx = False\n",
    "        \n",
    "        # Append the structured data\n",
    "        structured_data.append({\n",
    "            'RADAR_capture': row['RADAR_capture'],\n",
    "            'Start_End_Times': (lift_time, down_time),\n",
    "            'Start_End_Frames': (start_frame, end_frame),\n",
    "            'tx':(i+1),\n",
    "            'is_final_tx': (is_final_tx)\n",
    "            \n",
    "        })\n",
    "\n",
    "# Create a new DataFrame from the structured data\n",
    "new_df = pd.DataFrame(structured_data)\n",
    "\n",
    "print(new_df.head())\n",
    "\n",
    "# Specify the new CSV file name to save the updated DataFrame\n",
    "new_csv_path = '/Users/danielcopeland/Library/Mobile Documents/com~apple~CloudDocs/MIT Masters/DRL/LABx/RADARTreePose/data/csvs/FP_RADAR_START_END_TIME_FRAMES.csv'\n",
    "\n",
    "# Save to CSV file, without the index\n",
    "new_df.to_csv(new_csv_path, index=False)\n",
    "\n",
    "print(f'Data saved to {new_csv_path}')"
   ]
  }
 ],
 "metadata": {
  "kernelspec": {
   "display_name": "Python 3.11.7 ('radartreepose_env')",
   "language": "python",
   "name": "python3"
  },
  "language_info": {
   "codemirror_mode": {
    "name": "ipython",
    "version": 3
   },
   "file_extension": ".py",
   "mimetype": "text/x-python",
   "name": "python",
   "nbconvert_exporter": "python",
   "pygments_lexer": "ipython3",
   "version": "3.11.8"
  },
  "orig_nbformat": 4,
  "vscode": {
   "interpreter": {
    "hash": "328376d6b0fabe9c025bc20907c001b430f3b746c3e3fb21cb53bd3449095683"
   }
  }
 },
 "nbformat": 4,
 "nbformat_minor": 2
}
