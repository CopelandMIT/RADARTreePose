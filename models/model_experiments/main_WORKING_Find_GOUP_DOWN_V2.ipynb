{
 "cells": [
  {
   "cell_type": "code",
   "execution_count": 118,
   "metadata": {},
   "outputs": [],
   "source": [
    "import pandas as pd\n",
    "import os\n",
    "import numpy as np\n",
    "import torch\n",
    "import torch.nn as nn\n",
    "from torch.utils.data import Dataset, DataLoader\n",
    "from torchvision.transforms.functional import resize\n",
    "from torch.nn.utils.rnn import pad_sequence, pack_padded_sequence\n",
    "from torch import optim\n",
    "\n"
   ]
  },
  {
   "cell_type": "code",
   "execution_count": 119,
   "metadata": {},
   "outputs": [],
   "source": [
    "class RdmDataset(Dataset):\n",
    "    def __init__(self, root_dir, event_csv, actuator_csv, included_folders, window_size=100):\n",
    "        self.data = []\n",
    "        self.labels = []  # This will store labels for each window\n",
    "        self.window_size = window_size\n",
    "        \n",
    "        # Load event labels and actuator frames\n",
    "        self.event_labels_df = pd.read_csv(event_csv)\n",
    "        self.actuator_df = pd.read_csv(actuator_csv)\n",
    "        \n",
    "        # Iterate only over included folders\n",
    "        for folder_name in included_folders:\n",
    "            folder_path = os.path.join(root_dir, folder_name)\n",
    "            for file in sorted(os.listdir(folder_path)):\n",
    "                if file.endswith('.npy'):\n",
    "                    filepath = os.path.join(folder_path, file)\n",
    "                    radar_capture = \"_\".join(file.split('_')[:-1])  # Extract radar capture name\n",
    "                    \n",
    "                    # Ensure radar_capture matches one of the entries in the actuator CSV\n",
    "                    if self.actuator_df['RADAR_capture'].str.contains(radar_capture).any():\n",
    "                        rdm_data = np.load(filepath)\n",
    "                        rdm_data = torch.from_numpy(rdm_data).float()  # Convert numpy array to PyTorch tensor of type float\n",
    "\n",
    "\n",
    "                        # Find corresponding actuator frames for this radar_capture\n",
    "                        actuator_info = self.actuator_df[self.actuator_df['RADAR_capture'] == radar_capture].iloc[0]\n",
    "                        # Adjust the start frame as per the requirement\n",
    "                        actuator_start_frame, actuator_end_frame = actuator_info['RADAR_Start_Frame'] + 150, actuator_info['RADAR_End_Frame']\n",
    "                        \n",
    "                        # Create windows and label them\n",
    "                        self.create_and_label_windows(rdm_data, radar_capture, actuator_start_frame, actuator_end_frame)\n",
    "    \n",
    "    def create_and_label_windows(self, rdm_data, radar_capture, actuator_start_frame, actuator_end_frame):\n",
    "        num_frames = actuator_end_frame - actuator_start_frame + 1\n",
    "        capture_labels = self.label_frames(radar_capture)  # Labels for entire capture\n",
    "        \n",
    "        for start in range(0, num_frames - self.window_size + 1, self.window_size // 2):\n",
    "            actual_start = start + actuator_start_frame\n",
    "            actual_end = actual_start + self.window_size\n",
    "            \n",
    "            if actual_end > actuator_end_frame:\n",
    "                break  # Ensure we don't exceed the actuator_end_frame\n",
    "                \n",
    "            window_labels = capture_labels[actual_start:actual_end]  # Extract labels for the window\n",
    "            self.data.append(rdm_data[actual_start:actual_end])\n",
    "            self.labels.append(window_labels)\n",
    "\n",
    "    def label_frames(self, radar_capture):\n",
    "        num_frames = 1000  # Assuming a fixed size, adjust as necessary\n",
    "        labels = np.full(num_frames, 2)  # Default to 3 (neither)\n",
    "        capture_events = self.event_labels_df[self.event_labels_df['RADAR_capture'] == radar_capture]\n",
    "        \n",
    "        for _, event in capture_events.iterrows():\n",
    "            if not pd.isna(event['Start_Frame']) and not pd.isna(event['frame_stable']):\n",
    "                labels[int(event['Start_Frame']):int(event['frame_stable'])] = 0  # GOUP\n",
    "            if not pd.isna(event['frame_break']) and not pd.isna(event['End_Frame']):\n",
    "                labels[int(event['frame_break']):int(event['End_Frame'])] = 1  # DOWN\n",
    " \n",
    "        return labels\n",
    "\n",
    "\n",
    "    def __len__(self):\n",
    "        return len(self.data)\n",
    "\n",
    "    def __getitem__(self, index):\n",
    "        # Assuming self.data is your dataset and self.labels are your labels\n",
    "        data = self.data[index]\n",
    "        label = self.labels[index]\n",
    "        length = len(data)  # Or however you calculate the length of your sequence\n",
    "        return data, label, length\n",
    "\n",
    "\n",
    "def collate_fn(batch):\n",
    "    # Separate the sequences and labels\n",
    "    sequences, labels, _ = zip(*batch)\n",
    "    \n",
    "    # Remove the extra leading dimension and calculate lengths for each sequence in the batch\n",
    "    sequences = [torch.tensor(seq, dtype=torch.float) for seq in sequences]  # Ensure sequences are tensors\n",
    "    lengths = [len(seq) for seq in sequences]\n",
    "    \n",
    "    # Pad sequences to have the same length\n",
    "    sequences_padded = pad_sequence(sequences, batch_first=True)\n",
    "    \n",
    "    # Ensure labels are tensors\n",
    "    labels = [torch.tensor(label, dtype=torch.long) for label in labels]\n",
    "    labels_padded = pad_sequence(labels, batch_first=True, padding_value=-1)  # Assuming -1 is an ignore_index\n",
    "    \n",
    "    lengths = torch.tensor(lengths, dtype=torch.long)\n",
    "\n",
    "    return sequences_padded, labels_padded, lengths\n"
   ]
  },
  {
   "cell_type": "code",
   "execution_count": 120,
   "metadata": {},
   "outputs": [],
   "source": [
    "\n",
    "# Define the model\n",
    "class RdmClassifier(nn.Module):\n",
    "    def __init__(self, num_classes, hidden_size):\n",
    "        super(RdmClassifier, self).__init__()\n",
    "        # Define a simple CNN architecture\n",
    "        self.cnn = nn.Sequential(\n",
    "            nn.Conv2d(1, 16, kernel_size=3, stride=1, padding=1),  # Assuming RDMs have a single channel\n",
    "            nn.ReLU(),\n",
    "            nn.MaxPool2d(2),\n",
    "            nn.Flatten(),  # This will flatten the output of the convolutional layers\n",
    "        )\n",
    "        cnn_output_size = self._get_conv_output_size()\n",
    "\n",
    "        # Define the LSTM layer\n",
    "        self.lstm = nn.LSTM(cnn_output_size, hidden_size, batch_first=True)\n",
    "        \n",
    "        # Define the fully connected layer for classification\n",
    "        self.fc = nn.Linear(hidden_size, num_classes)\n",
    "\n",
    "    def forward(self, x, lengths):\n",
    "        x = x.float()  # Ensure input is float type\n",
    "        batch_size, seq_len, _, _ = x.size()\n",
    "        # Apply CNN to each RDM in the sequence\n",
    "        c_out = self.cnn(x.view(batch_size * seq_len, 1, *x.size()[-2:]))\n",
    "        \n",
    "        # Reshape for LSTM input\n",
    "        r_out = c_out.view(batch_size, seq_len, -1)\n",
    "        \n",
    "        # Pack the sequence for LSTM\n",
    "        packed_input = pack_padded_sequence(r_out, lengths, batch_first=True, enforce_sorted=False)\n",
    "        # Instead of using just the last hidden state\n",
    "        packed_output, (hidden, cell) = self.lstm(packed_input)\n",
    "        # Decode the packed output\n",
    "        lstm_out, _ = torch.nn.utils.rnn.pad_packed_sequence(packed_output, batch_first=True)\n",
    "        # Apply the fully connected layer to all time steps\n",
    "        out = self.fc(lstm_out)\n",
    "        return out\n",
    "    \n",
    "    def _get_conv_output_size(self):\n",
    "        # We can create a dummy input to calculate the output size after the CNN layers\n",
    "        with torch.no_grad():\n",
    "            dummy_input = torch.zeros(1, 1, 23, 13)  # Replace with your RDM shape\n",
    "            dummy_output = self.cnn(dummy_input)\n",
    "            return dummy_output.size(-1)\n",
    "\n"
   ]
  },
  {
   "cell_type": "code",
   "execution_count": 121,
   "metadata": {},
   "outputs": [
    {
     "name": "stdout",
     "output_type": "stream",
     "text": [
      "    RADAR_capture                     Lift_Times            Down_Times  \\\n",
      "0  01_MNTRL_RR_V1       [12.60667, 18.25, 26.24]     [18.26083, 22.83]   \n",
      "1  01_MNTRL_RR_V2          [10.48, 18.41, 26.46]        [15.05, 22.86]   \n",
      "2  01_MNTRL_RR_V3        [10.66, 18.2525, 26.35]        [15.16, 22.83]   \n",
      "3  01_MNTRR_RR_V1    [10.07, 18.33167, 26.07333]  [14.99333, 23.01917]   \n",
      "4  01_MNTRR_RR_V2  [10.6825, 18.65167, 26.65667]  [15.18417, 23.34917]   \n",
      "\n",
      "   MOCAP_End_Time  Seconds_per_Frame  MOCAP_Start_Time  RADAR_Start_Frame  \\\n",
      "0           30.57           0.036454              1.86                 44   \n",
      "1           30.40           0.036464              1.90                 41   \n",
      "2           31.88           0.036547              1.92                 43   \n",
      "3           30.23           0.036467              1.91                 45   \n",
      "4           30.66           0.036370              1.95                 41   \n",
      "\n",
      "   RADAR_End_Frame  \n",
      "0              831  \n",
      "1              822  \n",
      "2              862  \n",
      "3              821  \n",
      "4              830  \n"
     ]
    }
   ],
   "source": [
    "actuator_csv = \"/Users/danielcopeland/Library/Mobile Documents/com~apple~CloudDocs/MIT Masters/DRL/LABx/RADARTreePose/data/csvs/FP_RADAR_FULL_DATA2.csv\"\n",
    "df = pd.read_csv(actuator_csv)\n",
    "print(df.head())\n"
   ]
  },
  {
   "cell_type": "code",
   "execution_count": 122,
   "metadata": {},
   "outputs": [],
   "source": [
    "capture_frame_csv_path = \"/Users/danielcopeland/Library/Mobile Documents/com~apple~CloudDocs/MIT Masters/DRL/LABx/RADARTreePose/data/csvs/MOCAP_FP_RADAR_FU_Stable_Break_FD_TIME_FRAMES.csv\"\n",
    "\n",
    "root_dir = '/Volumes/FourTBLaCie/Yoga_Study_RADAR_1Ch'\n",
    "\n",
    "\n",
    "all_folders = sorted([d for d in os.listdir(root_dir) if os.path.isdir(os.path.join(root_dir, d))])\n",
    "num_train_folders = int(len(all_folders) * 0.8)\n",
    "train_folders = all_folders[:num_train_folders]\n",
    "test_folders = all_folders[num_train_folders:]\n",
    "\n",
    "train_dataset = RdmDataset(root_dir=root_dir, event_csv=capture_frame_csv_path, actuator_csv=actuator_csv, included_folders=train_folders, window_size=100)\n",
    "test_dataset = RdmDataset(root_dir=root_dir, event_csv=capture_frame_csv_path, actuator_csv=actuator_csv, included_folders=test_folders, window_size=100)\n",
    "\n",
    "# Adjust 'root_dir' and 'csv_file' to point to your test dataset\n",
    "test_loader = DataLoader(test_dataset, batch_size=2, shuffle=True)\n",
    "train_loader = DataLoader(train_dataset, batch_size=2, shuffle=True, collate_fn=collate_fn)"
   ]
  },
  {
   "cell_type": "code",
   "execution_count": 123,
   "metadata": {},
   "outputs": [
    {
     "name": "stdout",
     "output_type": "stream",
     "text": [
      "Number of training samples: 3068\n",
      "Number of testing samples: 784\n",
      "torch.Size([2, 100, 23, 13]) torch.Size([2, 100]) tensor([100, 100])\n"
     ]
    },
    {
     "name": "stderr",
     "output_type": "stream",
     "text": [
      "/var/folders/nh/xjdmv90x37b3xwwbwbm5lp1w0000gn/T/ipykernel_99905/1741855585.py:78: UserWarning: To copy construct from a tensor, it is recommended to use sourceTensor.clone().detach() or sourceTensor.clone().detach().requires_grad_(True), rather than torch.tensor(sourceTensor).\n",
      "  sequences = [torch.tensor(seq, dtype=torch.float) for seq in sequences]  # Ensure sequences are tensors\n"
     ]
    }
   ],
   "source": [
    "print(f\"Number of training samples: {len(train_dataset)}\")\n",
    "print(f\"Number of testing samples: {len(test_dataset)}\")\n",
    "\n",
    "data, labels, lengths = next(iter(train_loader))\n",
    "print(data.shape, labels.shape, lengths)\n"
   ]
  },
  {
   "cell_type": "code",
   "execution_count": 124,
   "metadata": {},
   "outputs": [
    {
     "name": "stdout",
     "output_type": "stream",
     "text": [
      "(100, 23, 13)\n",
      "Label: [2 2 2 2 2 2 2 2 2 2 2 2 2 2 2 2 2 2 2 2 2 2 2 2 2 2 2 2 2 2 2 2 2 2 2 2 2\n",
      " 2 2 2 2 2 2 2 2 2 2 2 2 2 2 2 2 2 2 2 2 2 2 2 2 2 2 2 2 2 2 2 2 2 2 2 0 0\n",
      " 0 0 0 0 0 0 0 0 0 0 2 2 2 2 2 2 2 2 2 2 2 2 2 2 2 2]\n"
     ]
    },
    {
     "data": {
      "image/png": "[encoded data removed]",
      "text/plain": [
       "<Figure size 640x480 with 1 Axes>"
      ]
     },
     "metadata": {},
     "output_type": "display_data"
    },
    {
     "name": "stdout",
     "output_type": "stream",
     "text": [
      "(100, 23, 13)\n",
      "Label: [2 2 2 2 2 2 2 2 2 2 2 2 2 2 2 2 2 2 2 2 2 2 0 0 0 0 0 0 0 0 0 0 0 0 2 2 2\n",
      " 2 2 2 2 2 2 2 2 2 2 2 2 2 2 2 2 2 2 2 2 2 2 2 2 2 2 2 2 2 2 2 2 2 2 2 2 2\n",
      " 2 2 2 2 2 2 2 2 2 2 2 2 2 2 2 2 2 2 2 2 2 2 2 2 2 2]\n"
     ]
    },
    {
     "data": {
      "image/png": "[encoded data removed]",
      "text/plain": [
       "<Figure size 640x480 with 1 Axes>"
      ]
     },
     "metadata": {},
     "output_type": "display_data"
    },
    {
     "name": "stdout",
     "output_type": "stream",
     "text": [
      "(100, 23, 13)\n",
      "Label: [2 2 2 2 2 2 2 2 2 2 2 2 2 2 2 2 2 2 2 2 2 2 2 2 2 2 2 2 2 2 2 2 2 2 2 2 2\n",
      " 2 2 2 2 2 2 2 2 2 2 2 2 2 2 2 2 2 2 2 2 2 2 2 2 2 2 2 2 2 2 2 2 2 1 1 1 1\n",
      " 1 1 1 1 1 1 2 2 2 2 2 2 2 2 2 2 2 2 2 2 2 2 2 2 2 2]\n"
     ]
    },
    {
     "data": {
      "image/png": "[encoded data removed]",
      "text/plain": [
       "<Figure size 640x480 with 1 Axes>"
      ]
     },
     "metadata": {},
     "output_type": "display_data"
    }
   ],
   "source": [
    "import matplotlib.pyplot as plt\n",
    "\n",
    "def visualize_sample(data, label):\n",
    "    print(data.shape)\n",
    "    # Assuming your data is a 2D RADAR sequence, adjust accordingly\n",
    "    # This is a simple visualization, consider plotting individual frames\n",
    "    print(f\"Label: {label}\")\n",
    "    plt.imshow(data[0], cmap='gray')  # Just visualize the first frame for simplicity\n",
    "    plt.show()\n",
    "\n",
    "# Visualize a few samples from the test set\n",
    "for i in range(3):\n",
    "    data, label, _ = test_dataset[i]\n",
    "    visualize_sample(np.array(data), label)  # Convert to numpy if it's a tensor\n"
   ]
  },
  {
   "cell_type": "code",
   "execution_count": 125,
   "metadata": {},
   "outputs": [],
   "source": [
    "# Initialize the model\n",
    "num_classes = 3  # GOUP, BLNC, DOWN\n",
    "hidden_size = 128\n",
    "model = RdmClassifier(num_classes=num_classes, hidden_size=hidden_size)\n",
    "\n",
    "# Loss function\n",
    "criterion = nn.CrossEntropyLoss()\n",
    "\n",
    "# Optimizer\n",
    "optimizer = optim.Adam(model.parameters(), lr=0.001)"
   ]
  },
  {
   "cell_type": "code",
   "execution_count": 126,
   "metadata": {},
   "outputs": [],
   "source": [
    "def train_model(model, train_loader, criterion, optimizer, num_epochs=10):\n",
    "    model.train()  # Set the model to training mode\n",
    "    \n",
    "    for epoch in range(num_epochs):\n",
    "        total_loss = 0\n",
    "        for data, labels, lengths in train_loader:  # Adjust to unpack lengths\n",
    "            optimizer.zero_grad()\n",
    "            data = data.float()  # Ensure data is in float\n",
    "            outputs = model(data, lengths)  # Pass both data and lengths to the model\n",
    "            outputs_flat = outputs.view(-1, num_classes)  # Flatten output for loss calculation\n",
    "            labels_flat = labels.view(-1)  # Flatten labels\n",
    "            loss = criterion(outputs_flat, labels_flat)\n",
    "            loss.backward()\n",
    "            optimizer.step()\n",
    "            total_loss += loss.item()\n",
    "        \n",
    "        avg_loss = total_loss / len(train_loader)\n",
    "        print(f'Epoch [{epoch+1}/{num_epochs}], Loss: {avg_loss:.4f}')\n"
   ]
  },
  {
   "cell_type": "code",
   "execution_count": 130,
   "metadata": {},
   "outputs": [],
   "source": [
    "def test_model(model, test_loader, criterion):\n",
    "    model.eval()  # Set the model to evaluation mode\n",
    "    total_loss = 0\n",
    "    correct_predictions = 0\n",
    "    total_predictions = 0  # Keep track of total predictions for accuracy calculation\n",
    "\n",
    "    with torch.no_grad():  # Disable gradient computation\n",
    "        for data, labels, lengths in test_loader:  # Adjust to unpack lengths\n",
    "            data = data.float()  # Ensure data is in float\n",
    "            outputs = model(data, lengths)  # Pass both data and lengths to the model\n",
    "            outputs_flat = outputs.view(-1, num_classes)  # Flatten output for loss calculation\n",
    "            labels_flat = labels.view(-1)  # Flatten labels for consistency with loss calculation\n",
    "\n",
    "            loss = criterion(outputs_flat, labels_flat)\n",
    "            total_loss += loss.item()\n",
    "\n",
    "            # Calculate predictions\n",
    "            _, predicted = torch.max(outputs_flat.data, 1)\n",
    "\n",
    "            # Update correct predictions count\n",
    "            correct_predictions += (predicted == labels_flat).sum().item()\n",
    "            total_predictions += labels_flat.size(0)  # Update total predictions\n",
    "\n",
    "    avg_loss = total_loss / len(test_loader)\n",
    "    accuracy = correct_predictions / total_predictions  # Calculate accuracy using total predictions\n",
    "    print(f'Test Loss: {avg_loss:.4f}, Accuracy: {accuracy:.4f}')\n"
   ]
  },
  {
   "cell_type": "code",
   "execution_count": 128,
   "metadata": {},
   "outputs": [
    {
     "name": "stderr",
     "output_type": "stream",
     "text": [
      "/var/folders/nh/xjdmv90x37b3xwwbwbm5lp1w0000gn/T/ipykernel_99905/1741855585.py:78: UserWarning: To copy construct from a tensor, it is recommended to use sourceTensor.clone().detach() or sourceTensor.clone().detach().requires_grad_(True), rather than torch.tensor(sourceTensor).\n",
      "  sequences = [torch.tensor(seq, dtype=torch.float) for seq in sequences]  # Ensure sequences are tensors\n"
     ]
    },
    {
     "name": "stdout",
     "output_type": "stream",
     "text": [
      "Epoch [1/10], Loss: 0.4892\n",
      "Epoch [2/10], Loss: 0.2707\n",
      "Epoch [3/10], Loss: 0.1953\n",
      "Epoch [4/10], Loss: 0.1775\n",
      "Epoch [5/10], Loss: 0.1695\n",
      "Epoch [6/10], Loss: 0.2037\n",
      "Epoch [7/10], Loss: 0.1640\n",
      "Epoch [8/10], Loss: 0.1559\n",
      "Epoch [9/10], Loss: 0.1492\n",
      "Epoch [10/10], Loss: 0.1477\n"
     ]
    }
   ],
   "source": [
    "# Assuming train_loader and test_loader are already defined\n",
    "train_model(model, train_loader, criterion, optimizer, num_epochs=10)\n",
    "\n"
   ]
  },
  {
   "cell_type": "code",
   "execution_count": 131,
   "metadata": {},
   "outputs": [
    {
     "name": "stdout",
     "output_type": "stream",
     "text": [
      "Test Loss: 0.2351, Accuracy: 0.9274\n"
     ]
    }
   ],
   "source": [
    "test_model(model, test_loader, criterion)"
   ]
  },
  {
   "cell_type": "code",
   "execution_count": 135,
   "metadata": {},
   "outputs": [
    {
     "name": "stdout",
     "output_type": "stream",
     "text": [
      "torch.Size([1, 100, 23, 13]) torch.Size([100])\n"
     ]
    },
    {
     "data": {
      "image/png": "[encoded data removed]",
      "text/plain": [
       "<Figure size 2000x500 with 1 Axes>"
      ]
     },
     "metadata": {},
     "output_type": "display_data"
    }
   ],
   "source": [
    "import matplotlib.pyplot as plt\n",
    "import numpy as np\n",
    "\n",
    "def visualize_timeline(sample_data, model, actual_labels):\n",
    "    model.eval()  # Set the model to evaluation mode\n",
    "    with torch.no_grad():\n",
    "        # Assuming sample_data is already in the correct shape: [1, seq_len, height, width]\n",
    "        # and actual_labels is a tensor of shape [seq_len]\n",
    "        lengths = torch.tensor([len(sample_data[0])])  # [seq_len]\n",
    "        predictions = model(sample_data, lengths)  # Get predictions from the model\n",
    "        predicted_labels = torch.argmax(predictions.squeeze(), dim=1)  # Convert predictions to label indices\n",
    "        \n",
    "    # Convert tensors to numpy arrays for plotting\n",
    "    actual_labels = actual_labels.numpy()\n",
    "    predicted_labels = predicted_labels.numpy()\n",
    "    \n",
    "    # Generate x values (frame indices)\n",
    "    x_values = np.arange(len(actual_labels))\n",
    "    \n",
    "    plt.figure(figsize=(20, 5))\n",
    "    \n",
    "    # Plot actual labels\n",
    "    plt.plot(x_values, actual_labels, label='Actual', marker='o')\n",
    "    \n",
    "    # Plot predicted labels\n",
    "    plt.plot(x_values, predicted_labels, label='Predicted', linestyle='--', marker='x')\n",
    "    \n",
    "    plt.yticks([0, 1, 2], ['GOUP', 'DOWN', 'NEITHER'])\n",
    "    plt.xlabel('Frame Index')\n",
    "    plt.ylabel('Event Class')\n",
    "    plt.title('Actual vs Predicted Event Timeline')\n",
    "    plt.legend()\n",
    "    plt.show()\n",
    "\n",
    "# Example usage:\n",
    "# Assuming 'sample_data' is your input radar sequence tensor, and 'actual_labels' is the tensor of actual labels\n",
    "# sample_data should be shaped [1, seq_len, height, width], and actual_labels should be shaped [seq_len]\n",
    "# Assuming 'train_loader' is your DataLoader instance\n",
    "# Assuming 'train_loader' is your DataLoader instance\n",
    "batch_data, batch_labels, batch_lengths = next(iter(test_loader))\n",
    "\n",
    "# To get a single sample from this batch, you can simply index into these tensors\n",
    "sample_data = batch_data[0].unsqueeze(0)  # Adds an extra dimension to make it [1, seq_len, height, width]\n",
    "sample_labels = batch_labels[0]  # The labels corresponding to the first sample\n",
    "sample_length = batch_lengths[0]  # The length of the first sample\n",
    "\n",
    "print(sample_data.shape, sample_labels.shape)\n",
    "\n",
    "# Now, sample_data, sample_labels, and sample_lengths contain the first batch of your dataset\n",
    "\n",
    "visualize_timeline(sample_data, model, sample_labels)\n"
   ]
  },
  {
   "cell_type": "code",
   "execution_count": 1,
   "metadata": {},
   "outputs": [
    {
     "ename": "NameError",
     "evalue": "name 'test_loader' is not defined",
     "output_type": "error",
     "traceback": [
      "\u001b[0;31m---------------------------------------------------------------------------\u001b[0m",
      "\u001b[0;31mNameError\u001b[0m                                 Traceback (most recent call last)",
      "Cell \u001b[0;32mIn[1], line 30\u001b[0m\n\u001b[1;32m     27\u001b[0m         plt\u001b[39m.\u001b[39mshow()\n\u001b[1;32m     29\u001b[0m \u001b[39m# Fetch a batch from the test data loader\u001b[39;00m\n\u001b[0;32m---> 30\u001b[0m batch_data, batch_labels, batch_lengths \u001b[39m=\u001b[39m \u001b[39mnext\u001b[39m(\u001b[39miter\u001b[39m(test_loader))\n\u001b[1;32m     32\u001b[0m \u001b[39m# Visualize the timeline for samples in the batch\u001b[39;00m\n\u001b[1;32m     33\u001b[0m visualize_timeline(batch_data, model, batch_labels, batch_lengths)\n",
      "\u001b[0;31mNameError\u001b[0m: name 'test_loader' is not defined"
     ]
    }
   ],
   "source": [
    "import matplotlib.pyplot as plt\n",
    "import torch\n",
    "\n",
    "def visualize_timeline(sample_data, model, actual_labels, lengths):\n",
    "    model.eval()\n",
    "    with torch.no_grad():\n",
    "        # Assuming your model outputs logits that need softmax\n",
    "        predictions = model(sample_data, lengths)\n",
    "        predictions = torch.softmax(predictions, dim=-1)\n",
    "        predicted_labels = torch.argmax(predictions, dim=-1)\n",
    "\n",
    "    # Visualizing timelines for the first few samples in the batch\n",
    "    num_samples_to_visualize = 5  # Adjust based on how many samples you want to visualize\n",
    "    for i in range(min(num_samples_to_visualize, sample_data.size(0))):\n",
    "        plt.figure(figsize=(10, 2))\n",
    "        x_values = list(range(lengths[i].item()))\n",
    "        actual = actual_labels[i][:lengths[i]].cpu().numpy()\n",
    "        predicted = predicted_labels[i][:lengths[i]].cpu().numpy()\n",
    "        \n",
    "        plt.plot(x_values, actual, label='Actual', marker='o', linestyle='-', color='blue')\n",
    "        plt.plot(x_values, predicted, label='Predicted', linestyle='--', marker='x', color='red')\n",
    "        \n",
    "        plt.yticks([0, 1, 2], ['GOUP', 'DOWN', 'NEITHER'])\n",
    "        plt.xlabel('Frame Index')\n",
    "        plt.title(f'Sample {i+1}')\n",
    "        plt.legend()\n",
    "        plt.show()\n",
    "\n",
    "# Fetch a batch from the test data loader\n",
    "batch_data, batch_labels, batch_lengths = next(iter(test_loader))\n",
    "\n",
    "# Visualize the timeline for samples in the batch\n",
    "visualize_timeline(batch_data, model, batch_labels, batch_lengths)\n"
   ]
  }
 ],
 "metadata": {
  "kernelspec": {
   "display_name": "Python 3.11.7 ('radartreepose_env')",
   "language": "python",
   "name": "python3"
  },
  "language_info": {
   "codemirror_mode": {
    "name": "ipython",
    "version": 3
   },
   "file_extension": ".py",
   "mimetype": "text/x-python",
   "name": "python",
   "nbconvert_exporter": "python",
   "pygments_lexer": "ipython3",
   "version": "3.10.13"
  },
  "orig_nbformat": 4,
  "vscode": {
   "interpreter": {
    "hash": "328376d6b0fabe9c025bc20907c001b430f3b746c3e3fb21cb53bd3449095683"
   }
  }
 },
 "nbformat": 4,
 "nbformat_minor": 2
}
