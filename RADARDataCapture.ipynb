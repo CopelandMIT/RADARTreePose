{
 "cells": [
  {
   "cell_type": "markdown",
   "metadata": {},
   "source": [
    "This notebook contains a class for processing an FMCW RADAR data capture. "
   ]
  },
  {
   "cell_type": "code",
   "execution_count": 4,
   "metadata": {},
   "outputs": [],
   "source": [
    "import h5py\n",
    "import numpy as np\n",
    "import os"
   ]
  },
  {
   "cell_type": "code",
   "execution_count": 5,
   "metadata": {},
   "outputs": [],
   "source": [
    "class FMCWRADARDataCapture:\n",
    "    \"\"\"\n",
    "    Class for handling the capture, processing, and saving of FMCW RADAR data.\n",
    "\n",
    "    This class is designed to load Frequency-Modulated Continuous-Wave (FMCW) RADAR data from a specified HDF5 file,\n",
    "    process the data into a usable format, and save it as a NumPy file (either .npy or .npz format).\n",
    "\n",
    "    Attributes:\n",
    "        file_path (str): Path to the HDF5 file containing the RADAR data.\n",
    "    \"\"\"\n",
    "\n",
    "    def __init__(self, file_path):\n",
    "        \"\"\"\n",
    "        Initializes the FMCWRADARDataCapture class with the specified file path.\n",
    "\n",
    "        Args:\n",
    "            file_path (str): Path to the HDF5 file to be loaded and processed.\n",
    "        \"\"\"\n",
    "        \n",
    "        if not os.path.isfile(file_path):\n",
    "            raise FileNotFoundError(f\"The file '{file_path}' does not exist.\")\n",
    "\n",
    "        self.file_path = file_path\n",
    "        self.output_path = self.file_path.replace(\"_Data\", \"_Data_NP\")\n",
    "\n",
    "    def load_and_save(self, output_path=None, format='npy'):\n",
    "        if output_path is None:\n",
    "            output_path = self.output_path \n",
    "            output_path = os.path.splitext(output_path)[0]\n",
    "            \n",
    "        # Ensure the directory of the output path exists\n",
    "        output_dir = os.path.dirname(output_path)\n",
    "        if not os.path.exists(output_dir):\n",
    "            os.makedirs(output_dir)\n",
    "        \n",
    "        # Open the HDF5 file\n",
    "        with h5py.File(self.file_path, 'r') as file:\n",
    "            # Reading parameters from the HDF5 file\n",
    "            N = file['/BrdCfg/N'][()]\n",
    "            Np = file['/BrdCfg/Np'][()]\n",
    "            fs = file['/BrdCfg/fs'][()]\n",
    "            TimUp = file['/BrdCfg/TimUp'][()]\n",
    "            FreqStrt = file['/BrdCfg/FreqStrt'][()]\n",
    "            FreqStop = file['/BrdCfg/FreqStop'][()]\n",
    "\n",
    "            # Calculating effective bandwidth\n",
    "            B = (FreqStop - FreqStrt) / 284 * 256\n",
    "            range_resolution = 3e8 / (2 * B)\n",
    "\n",
    "            # Reading the If signal\n",
    "            If = file['/If'][:]\n",
    "\n",
    "        # Parameters (you might need to adjust these)\n",
    "        numFrames = 1000\n",
    "        numChirpsPerFrame = 128\n",
    "        numSamplesPerChirp = 256\n",
    "        numAntennas = 4\n",
    "\n",
    "        # Processing the If signal\n",
    "        dataCubes = self.rawDataToDataCube(If, numFrames, numChirpsPerFrame, numSamplesPerChirp, numAntennas)\n",
    "        \n",
    "        print(dataCubes.shape)\n",
    "\n",
    "        # Save data in the specified format\n",
    "        if format == 'npy':\n",
    "            np.save(output_path, dataCubes)\n",
    "        elif format == 'npz':\n",
    "            np.savez(output_path, dataCubes)\n",
    "        else:\n",
    "            raise ValueError(\"Unsupported format. Use 'npy' or 'npz'.\")\n",
    "\n",
    "    @staticmethod\n",
    "    def rawDataToDataCube(rawData, numFrames, numChirpsPerFrame, numSamplesPerChirp, numAntennas):\n",
    "        # Reshape and rearrange the rawData\n",
    "        matrixData = rawData.T.reshape(numChirpsPerFrame * numSamplesPerChirp, numFrames * numAntennas)\n",
    "        dataCubes = np.zeros((numFrames, numChirpsPerFrame, numSamplesPerChirp, numAntennas))\n",
    "\n",
    "        for frame in range(numFrames):\n",
    "            for antenna in range(numAntennas):\n",
    "                chirps = matrixData[:, frame * numAntennas + antenna]\n",
    "                chirpsMatrix = chirps.reshape(numSamplesPerChirp, numChirpsPerFrame)\n",
    "                dataCubes[frame, :, :, antenna] = chirpsMatrix.T\n",
    "\n",
    "        return dataCubes\n"
   ]
  }
 ],
 "metadata": {
  "kernelspec": {
   "display_name": "Python 3.10.7 64-bit",
   "language": "python",
   "name": "python3"
  },
  "language_info": {
   "codemirror_mode": {
    "name": "ipython",
    "version": 3
   },
   "file_extension": ".py",
   "mimetype": "text/x-python",
   "name": "python",
   "nbconvert_exporter": "python",
   "pygments_lexer": "ipython3",
   "version": "3.10.7"
  },
  "orig_nbformat": 4,
  "vscode": {
   "interpreter": {
    "hash": "aee8b7b246df8f9039afb4144a1f6fd8d2ca17a180786b69acc140d282b71a49"
   }
  }
 },
 "nbformat": 4,
 "nbformat_minor": 2
}
