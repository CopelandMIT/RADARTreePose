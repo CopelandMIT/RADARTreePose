{
 "cells": [
  {
   "cell_type": "code",
   "execution_count": 1,
   "metadata": {},
   "outputs": [
    {
     "name": "stdout",
     "output_type": "stream",
     "text": [
      "Intel MKL WARNING: Support of Intel(R) Streaming SIMD Extensions 4.2 (Intel(R) SSE4.2) enabled only processors has been deprecated. Intel oneAPI Math Kernel Library 2025.0 will require Intel(R) Advanced Vector Extensions (Intel(R) AVX) instructions.\n",
      "Intel MKL WARNING: Support of Intel(R) Streaming SIMD Extensions 4.2 (Intel(R) SSE4.2) enabled only processors has been deprecated. Intel oneAPI Math Kernel Library 2025.0 will require Intel(R) Advanced Vector Extensions (Intel(R) AVX) instructions.\n"
     ]
    }
   ],
   "source": [
    "# Simulating the loading of a CSV file into a DataFrame with example data based on the image provided\n",
    "import pandas as pd\n",
    "from pathlib import Path\n",
    "import os\n",
    "import shutil\n"
   ]
  },
  {
   "cell_type": "code",
   "execution_count": 2,
   "metadata": {},
   "outputs": [],
   "source": [
    "def rename_files_in_specific_subdirectories(source_directory, dest_directory, name_changes_df, subfolders):\n",
    "    # Create the destination directory if it does not exist\n",
    "    Path(dest_directory).mkdir(parents=True, exist_ok=True)\n",
    "    \n",
    "    # Loop through the specified subfolders\n",
    "    for subfolder in subfolders:\n",
    "        # Construct the path to the subfolder\n",
    "        subfolder_path = os.path.join(source_directory, subfolder)\n",
    "\n",
    "        # Check if the subfolder exists in the source directory\n",
    "        if not os.path.exists(subfolder_path):\n",
    "            print(f\"Subfolder {subfolder} does not exist in the source directory.\")\n",
    "            continue\n",
    "        \n",
    "        # Loop through all the files in the subfolder\n",
    "        for subdir, dirs, files in os.walk(subfolder_path):\n",
    "            for file in files:\n",
    "                # Check if 'xxx' is in the file name, if so continue to the next file\n",
    "                if 'xxx' in file:\n",
    "                    continue\n",
    "\n",
    "                # Construct the source file path\n",
    "                old_file_path = os.path.join(subdir, file)\n",
    "                \n",
    "                # Loop through the DataFrame and check if the file name matches any 'OLD' name\n",
    "                for _, row in name_changes_df.iterrows():\n",
    "                    if row['OLD'] in file:\n",
    "                        # Replace the OLD part with the NEW part in the file name\n",
    "                        new_file_name = file.replace(row['OLD'], row['NEW'])\n",
    "                        \n",
    "                        # If the new file name has \"DELETE\" in it, do not save the file\n",
    "                        if \"DELETE\" in new_file_name:\n",
    "                            print(f\"File '{new_file_name}' marked for deletion, not copied.\")\n",
    "                            continue\n",
    "                        \n",
    "                        # Construct the destination file path\n",
    "                        new_subdir = subdir.replace(source_directory, dest_directory)\n",
    "                        Path(new_subdir).mkdir(parents=True, exist_ok=True)\n",
    "                        new_file_path = os.path.join(new_subdir, new_file_name)\n",
    "                        \n",
    "                        # Check if the file already exists at the destination\n",
    "                        if not os.path.exists(new_file_path):\n",
    "                            # Copy the file to the new destination with the new name\n",
    "                            shutil.copy2(old_file_path, new_file_path)\n",
    "                            # Output the old and new file paths for verification\n",
    "                            print(f\"Renamed '{old_file_path}' to '{new_file_path}'\")\n",
    "                        else:\n",
    "                            # If the file already exists, skip saving\n",
    "                            print(f\"Skipped '{new_file_path}' as it already exists\")\n",
    "\n",
    "subfolders = ['08']\n",
    "\n"
   ]
  },
  {
   "cell_type": "code",
   "execution_count": 3,
   "metadata": {},
   "outputs": [
    {
     "name": "stdout",
     "output_type": "stream",
     "text": [
      "            OLD          NEW\n",
      "0   DOWND_RR_V1  CHAIR_RR_V1\n",
      "1   CHAIR_RR_V1  YOGIS_RR_V1\n",
      "2   YOGIS_RR_V1  CT2CW_RR_V1\n",
      "3   CT2CW_RR_V1  CT2CW_RR_V2\n",
      "4   CT2CW_RR_V2  CT2CW_RR_V3\n",
      "5   CT2CW_RR_V3  CRW2L_RR_V1\n",
      "6   CRW2L_RR_V1  CRW2L_RR_V2\n",
      "7   CRW2L_RR_V2  CRW2L_RR_V3\n",
      "8   CRW2L_RR_V3  CRW2R_RR_V1\n",
      "9   CRW2R_RR_V1  CRW2R_RR_V2\n",
      "10  CRW2R_RR_V2  CRW2R_RR_V3\n",
      "11  CRW2R_RR_V3  FF2MN_RR_V1\n",
      "12  FF2MN_RR_V1  FF2MN_RR_V2\n",
      "13  FF2MN_RR_V2  FF2MN_RR_V3\n",
      "14  FF2MN_RR_V3  MNTRL_RR_V1\n",
      "15  MNTRL_RR_V1  MNTRL_RR_V2\n",
      "16  MNTRL_RR_V2  MNTRL_RR_V3\n",
      "17  MNTRL_RR_V3  MNTRR_RR_V1\n",
      "18  MNTRR_RR_V1  MNTRR_RR_V2\n",
      "19  MNTRR_RR_V2  MNTRR_RR_V3\n",
      "20  MNTRR_RR_V3       DELETE\n"
     ]
    }
   ],
   "source": [
    "\n",
    "source_dir = '/Volumes/DC_LaCie/Yoga_Study_RADAR_Data'\n",
    "dest_dir = '/Volumes/DC_LaCie/Yoga_Study_RADAR_Data_Renamed'\n",
    "name_changes_df = pd.DataFrame(pd.read_csv('/Users/danielcopeland/Library/Mobile Documents/com~apple~CloudDocs/MIT Masters/DRL/LABx/RADARTreePose/data/FIX_NAMES/NAME_CHANGES.csv', header=0))\n",
    "\n",
    "print(name_changes_df)"
   ]
  },
  {
   "cell_type": "code",
   "execution_count": 4,
   "metadata": {},
   "outputs": [
    {
     "name": "stdout",
     "output_type": "stream",
     "text": [
      "Skipped '/Volumes/DC_LaCie/Yoga_Study_RADAR_Data_Renamed/08/08_FF2MN_RR_V3.h5' as it already exists\n",
      "Renamed '/Volumes/DC_LaCie/Yoga_Study_RADAR_Data/08/._08_FF2MN_RR_V2.h5' to '/Volumes/DC_LaCie/Yoga_Study_RADAR_Data_Renamed/08/._08_FF2MN_RR_V3.h5'\n",
      "Renamed '/Volumes/DC_LaCie/Yoga_Study_RADAR_Data/08/08_YOGIS_RR_V1.h5' to '/Volumes/DC_LaCie/Yoga_Study_RADAR_Data_Renamed/08/08_CT2CW_RR_V1.h5'\n",
      "Renamed '/Volumes/DC_LaCie/Yoga_Study_RADAR_Data/08/._08_YOGIS_RR_V1.h5' to '/Volumes/DC_LaCie/Yoga_Study_RADAR_Data_Renamed/08/._08_CT2CW_RR_V1.h5'\n",
      "Renamed '/Volumes/DC_LaCie/Yoga_Study_RADAR_Data/08/08_MNTRL_RR_V1.h5' to '/Volumes/DC_LaCie/Yoga_Study_RADAR_Data_Renamed/08/08_MNTRL_RR_V2.h5'\n",
      "Renamed '/Volumes/DC_LaCie/Yoga_Study_RADAR_Data/08/._08_MNTRL_RR_V1.h5' to '/Volumes/DC_LaCie/Yoga_Study_RADAR_Data_Renamed/08/._08_MNTRL_RR_V2.h5'\n",
      "Renamed '/Volumes/DC_LaCie/Yoga_Study_RADAR_Data/08/08_CT2CW_RR_V1.h5' to '/Volumes/DC_LaCie/Yoga_Study_RADAR_Data_Renamed/08/08_CT2CW_RR_V2.h5'\n",
      "Renamed '/Volumes/DC_LaCie/Yoga_Study_RADAR_Data/08/._08_CT2CW_RR_V1.h5' to '/Volumes/DC_LaCie/Yoga_Study_RADAR_Data_Renamed/08/._08_CT2CW_RR_V2.h5'\n",
      "Renamed '/Volumes/DC_LaCie/Yoga_Study_RADAR_Data/08/08_FF2MN_RR_V3.h5' to '/Volumes/DC_LaCie/Yoga_Study_RADAR_Data_Renamed/08/08_MNTRL_RR_V1.h5'\n",
      "Renamed '/Volumes/DC_LaCie/Yoga_Study_RADAR_Data/08/._08_FF2MN_RR_V3.h5' to '/Volumes/DC_LaCie/Yoga_Study_RADAR_Data_Renamed/08/._08_MNTRL_RR_V1.h5'\n",
      "Renamed '/Volumes/DC_LaCie/Yoga_Study_RADAR_Data/08/08_MNTRR_RR_V1.h5' to '/Volumes/DC_LaCie/Yoga_Study_RADAR_Data_Renamed/08/08_MNTRR_RR_V2.h5'\n",
      "Renamed '/Volumes/DC_LaCie/Yoga_Study_RADAR_Data/08/._08_MNTRR_RR_V1.h5' to '/Volumes/DC_LaCie/Yoga_Study_RADAR_Data_Renamed/08/._08_MNTRR_RR_V2.h5'\n",
      "Renamed '/Volumes/DC_LaCie/Yoga_Study_RADAR_Data/08/08_CRW2L_RR_V3.h5' to '/Volumes/DC_LaCie/Yoga_Study_RADAR_Data_Renamed/08/08_CRW2R_RR_V1.h5'\n",
      "Renamed '/Volumes/DC_LaCie/Yoga_Study_RADAR_Data/08/._08_CRW2L_RR_V3.h5' to '/Volumes/DC_LaCie/Yoga_Study_RADAR_Data_Renamed/08/._08_CRW2R_RR_V1.h5'\n",
      "Renamed '/Volumes/DC_LaCie/Yoga_Study_RADAR_Data/08/08_CRW2R_RR_V2.h5' to '/Volumes/DC_LaCie/Yoga_Study_RADAR_Data_Renamed/08/08_CRW2R_RR_V3.h5'\n",
      "Renamed '/Volumes/DC_LaCie/Yoga_Study_RADAR_Data/08/._08_CRW2R_RR_V2.h5' to '/Volumes/DC_LaCie/Yoga_Study_RADAR_Data_Renamed/08/._08_CRW2R_RR_V3.h5'\n",
      "Renamed '/Volumes/DC_LaCie/Yoga_Study_RADAR_Data/08/08_CRW2L_RR_V2.h5' to '/Volumes/DC_LaCie/Yoga_Study_RADAR_Data_Renamed/08/08_CRW2L_RR_V3.h5'\n",
      "Renamed '/Volumes/DC_LaCie/Yoga_Study_RADAR_Data/08/._08_CRW2L_RR_V2.h5' to '/Volumes/DC_LaCie/Yoga_Study_RADAR_Data_Renamed/08/._08_CRW2L_RR_V3.h5'\n",
      "Renamed '/Volumes/DC_LaCie/Yoga_Study_RADAR_Data/08/08_CRW2R_RR_V3.h5' to '/Volumes/DC_LaCie/Yoga_Study_RADAR_Data_Renamed/08/08_FF2MN_RR_V1.h5'\n",
      "Renamed '/Volumes/DC_LaCie/Yoga_Study_RADAR_Data/08/._08_CRW2R_RR_V3.h5' to '/Volumes/DC_LaCie/Yoga_Study_RADAR_Data_Renamed/08/._08_FF2MN_RR_V1.h5'\n",
      "Renamed '/Volumes/DC_LaCie/Yoga_Study_RADAR_Data/08/08_CRW2L_RR_V1.h5' to '/Volumes/DC_LaCie/Yoga_Study_RADAR_Data_Renamed/08/08_CRW2L_RR_V2.h5'\n",
      "Renamed '/Volumes/DC_LaCie/Yoga_Study_RADAR_Data/08/._08_CRW2L_RR_V1.h5' to '/Volumes/DC_LaCie/Yoga_Study_RADAR_Data_Renamed/08/._08_CRW2L_RR_V2.h5'\n",
      "Renamed '/Volumes/DC_LaCie/Yoga_Study_RADAR_Data/08/08_CRW2R_RR_V1.h5' to '/Volumes/DC_LaCie/Yoga_Study_RADAR_Data_Renamed/08/08_CRW2R_RR_V2.h5'\n",
      "Renamed '/Volumes/DC_LaCie/Yoga_Study_RADAR_Data/08/._08_CRW2R_RR_V1.h5' to '/Volumes/DC_LaCie/Yoga_Study_RADAR_Data_Renamed/08/._08_CRW2R_RR_V2.h5'\n",
      "Renamed '/Volumes/DC_LaCie/Yoga_Study_RADAR_Data/08/08_CT2CW_RR_V3.h5' to '/Volumes/DC_LaCie/Yoga_Study_RADAR_Data_Renamed/08/08_CRW2L_RR_V1.h5'\n",
      "Renamed '/Volumes/DC_LaCie/Yoga_Study_RADAR_Data/08/._08_CT2CW_RR_V3.h5' to '/Volumes/DC_LaCie/Yoga_Study_RADAR_Data_Renamed/08/._08_CRW2L_RR_V1.h5'\n",
      "Renamed '/Volumes/DC_LaCie/Yoga_Study_RADAR_Data/08/08_MNTRR_RR_V2.h5' to '/Volumes/DC_LaCie/Yoga_Study_RADAR_Data_Renamed/08/08_MNTRR_RR_V3.h5'\n",
      "Renamed '/Volumes/DC_LaCie/Yoga_Study_RADAR_Data/08/._08_MNTRR_RR_V2.h5' to '/Volumes/DC_LaCie/Yoga_Study_RADAR_Data_Renamed/08/._08_MNTRR_RR_V3.h5'\n",
      "Renamed '/Volumes/DC_LaCie/Yoga_Study_RADAR_Data/08/08_CHAIR_RR_V1.h5' to '/Volumes/DC_LaCie/Yoga_Study_RADAR_Data_Renamed/08/08_YOGIS_RR_V1.h5'\n",
      "Renamed '/Volumes/DC_LaCie/Yoga_Study_RADAR_Data/08/._08_CHAIR_RR_V1.h5' to '/Volumes/DC_LaCie/Yoga_Study_RADAR_Data_Renamed/08/._08_YOGIS_RR_V1.h5'\n",
      "Renamed '/Volumes/DC_LaCie/Yoga_Study_RADAR_Data/08/08_MNTRL_RR_V3.h5' to '/Volumes/DC_LaCie/Yoga_Study_RADAR_Data_Renamed/08/08_MNTRR_RR_V1.h5'\n",
      "Renamed '/Volumes/DC_LaCie/Yoga_Study_RADAR_Data/08/._08_MNTRL_RR_V3.h5' to '/Volumes/DC_LaCie/Yoga_Study_RADAR_Data_Renamed/08/._08_MNTRR_RR_V1.h5'\n",
      "Renamed '/Volumes/DC_LaCie/Yoga_Study_RADAR_Data/08/08_FF2MN_RR_V1.h5' to '/Volumes/DC_LaCie/Yoga_Study_RADAR_Data_Renamed/08/08_FF2MN_RR_V2.h5'\n",
      "Renamed '/Volumes/DC_LaCie/Yoga_Study_RADAR_Data/08/._08_FF2MN_RR_V1.h5' to '/Volumes/DC_LaCie/Yoga_Study_RADAR_Data_Renamed/08/._08_FF2MN_RR_V2.h5'\n",
      "File '08_DELETE.h5' marked for deletion, not copied.\n",
      "File '._08_DELETE.h5' marked for deletion, not copied.\n",
      "Renamed '/Volumes/DC_LaCie/Yoga_Study_RADAR_Data/08/08_MNTRL_RR_V2.h5' to '/Volumes/DC_LaCie/Yoga_Study_RADAR_Data_Renamed/08/08_MNTRL_RR_V3.h5'\n",
      "Renamed '/Volumes/DC_LaCie/Yoga_Study_RADAR_Data/08/._08_MNTRL_RR_V2.h5' to '/Volumes/DC_LaCie/Yoga_Study_RADAR_Data_Renamed/08/._08_MNTRL_RR_V3.h5'\n",
      "Renamed '/Volumes/DC_LaCie/Yoga_Study_RADAR_Data/08/08_DOWND_RR_V1.h5' to '/Volumes/DC_LaCie/Yoga_Study_RADAR_Data_Renamed/08/08_CHAIR_RR_V1.h5'\n",
      "Renamed '/Volumes/DC_LaCie/Yoga_Study_RADAR_Data/08/._08_DOWND_RR_V1.h5' to '/Volumes/DC_LaCie/Yoga_Study_RADAR_Data_Renamed/08/._08_CHAIR_RR_V1.h5'\n",
      "Renamed '/Volumes/DC_LaCie/Yoga_Study_RADAR_Data/08/08_CT2CW_RR_V2.h5' to '/Volumes/DC_LaCie/Yoga_Study_RADAR_Data_Renamed/08/08_CT2CW_RR_V3.h5'\n",
      "Renamed '/Volumes/DC_LaCie/Yoga_Study_RADAR_Data/08/._08_CT2CW_RR_V2.h5' to '/Volumes/DC_LaCie/Yoga_Study_RADAR_Data_Renamed/08/._08_CT2CW_RR_V3.h5'\n"
     ]
    }
   ],
   "source": [
    "rename_files_in_specific_subdirectories(source_dir, dest_dir, name_changes_df, subfolders)"
   ]
  }
 ],
 "metadata": {
  "kernelspec": {
   "display_name": "Python 3.11.7 ('radartreepose_env')",
   "language": "python",
   "name": "python3"
  },
  "language_info": {
   "codemirror_mode": {
    "name": "ipython",
    "version": 3
   },
   "file_extension": ".py",
   "mimetype": "text/x-python",
   "name": "python",
   "nbconvert_exporter": "python",
   "pygments_lexer": "ipython3",
   "version": "3.11.7"
  },
  "orig_nbformat": 4,
  "vscode": {
   "interpreter": {
    "hash": "328376d6b0fabe9c025bc20907c001b430f3b746c3e3fb21cb53bd3449095683"
   }
  }
 },
 "nbformat": 4,
 "nbformat_minor": 2
}
